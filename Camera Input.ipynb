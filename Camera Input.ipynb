{
 "cells": [
  {
   "cell_type": "code",
   "execution_count": 1,
   "id": "0d993cba",
   "metadata": {},
   "outputs": [
    {
     "name": "stdout",
     "output_type": "stream",
     "text": [
      "WARNING:tensorflow:From C:\\Users\\orile\\AppData\\Local\\Packages\\PythonSoftwareFoundation.Python.3.11_qbz5n2kfra8p0\\LocalCache\\local-packages\\Python311\\site-packages\\keras\\src\\losses.py:2940: The name tf.losses.sparse_softmax_cross_entropy is deprecated. Please use tf.compat.v1.losses.sparse_softmax_cross_entropy instead.\n",
      "\n"
     ]
    }
   ],
   "source": [
    "## Import\n",
    "\n",
    "from matplotlib import pyplot as plt\n",
    "from PIL import Image\n",
    "import numpy as np\n",
    "import cv2\n",
    "import time\n",
    "import os.path\n",
    "import tensorflow as tf \n",
    "import keras\n",
    "from keras import layers\n",
    "from ComputerControl import *\n",
    "import sys\n",
    "from PyQt5.QtWidgets import QMainWindow, QWidget, QVBoxLayout, QLabel, QApplication\n",
    "import pickle\n",
    "import gui\n",
    "MAX_IMAGES_SAVED = 10\n",
    "currentId = 0"
   ]
  },
  {
   "cell_type": "code",
   "execution_count": 8,
   "id": "675d38d0",
   "metadata": {},
   "outputs": [],
   "source": [
    "def recognise_hand(images):\n",
    "    images = images.reshape(1,37, 100, 176, 3)\n",
    "    model = tf.keras.models.load_model(\"Test_save_model\")\n",
    "    print(np.argmax(model.predict(images)[0]))\n",
    "    return np.argmax(model.predict(images)[0])\n",
    "    "
   ]
  },
  {
   "cell_type": "code",
   "execution_count": 4,
   "id": "2ee98dcd-8e41-4294-913a-e5404317ad75",
   "metadata": {},
   "outputs": [],
   "source": [
    "## Helper functions\n",
    "\n",
    "def get_pictures(sleep_time):\n",
    "    # define a video capture object\n",
    "    vid = cv2.VideoCapture(0)\n",
    "    # define the input size of the model\n",
    "    images_count = 37\n",
    "    input_shape = (176, 100)\n",
    "    # define the images list\n",
    "    width = input_shape[0]\n",
    "    height = input_shape[1]\n",
    "    images_shape = (images_count, height, width, 3)\n",
    "    images = np.empty(images_shape, dtype='uint8')\n",
    "\n",
    "    for i in range(images_count):\n",
    "        # Capture the video frame by frame\n",
    "        ret, frame = vid.read()\n",
    "        # Resize the frame\n",
    "        time.sleep(sleep_time)\n",
    "        img = Image.fromarray(frame)\n",
    "        resized_img = img.resize(input_shape, Image.LANCZOS)\n",
    "        frame_numpy = np.array(resized_img)\n",
    "        \n",
    "        # Add it to the array\n",
    "        images[i] = cv2.cvtColor(frame_numpy, cv2.COLOR_BGR2RGB)\n",
    "        \n",
    "    \n",
    "    # After the loop release the cap object\n",
    "    vid.release()\n",
    "\n",
    "    return images\n",
    "\n",
    "def display_images(images): ### For test\n",
    "    for i in range(images.shape[0]):\n",
    "        plt.imshow(images[i])\n",
    "        plt.show()"
   ]
  },
  {
   "cell_type": "code",
   "execution_count": 5,
   "id": "487e8b1b",
   "metadata": {},
   "outputs": [],
   "source": [
    "def calc_fps():\n",
    "    video = cv2.VideoCapture(0);\n",
    "    (major_ver, minor_ver, subminor_ver) = (cv2.__version__).split('.')\n",
    " \n",
    "    num_frames = 120\n",
    "    if int(major_ver)  < 3 :\n",
    "        fps = video.get(cv2.cv.CV_CAP_PROP_FPS)\n",
    "        print(\"Frames per second using video.get(cv2.cv.CV_CAP_PROP_FPS): {0}\".format(fps))\n",
    "    else :\n",
    "        fps = video.get(cv2.CAP_PROP_FPS)\n",
    "        print(\"Frames per second using video.get(cv2.CAP_PROP_FPS) : {0}\".format(fps))\n",
    "    start = time.time()\n",
    " \n",
    "    for i in range(0, num_frames) :\n",
    "        ret, frame = video.read()\n",
    "    \n",
    "    end = time.time()\n",
    "\n",
    "    seconds = end - start\n",
    "    return num_frames / seconds\n",
    "def get_fps():\n",
    "    if(os.path.isfile(\"maxFps.bin\")):\n",
    "        f = open(\"maxFps.bin\", 'rb')\n",
    "        fps = float(f.read().decode())\n",
    "        f.close()\n",
    "        return fps\n",
    "    fps = calc_fps()\n",
    "    f= open(\"maxFps.bin\", 'wb')\n",
    "    f.write(str(fps).encode())\n",
    "    return fps\n",
    "\n",
    "def calc_sleep(fps, target_fps):\n",
    "    if (target_fps>fps):\n",
    "        raise Exception('Target fps is higher then max fps') \n",
    "    diff = fps-target_fps\n",
    "    return diff/37"
   ]
  },
  {
   "cell_type": "code",
   "execution_count": 6,
   "id": "a20b576c-cb3d-4d8c-8ec9-374ece5760fa",
   "metadata": {},
   "outputs": [],
   "source": [
    "## Get the images to the  model \n",
    "\n",
    "def input_to_model(sleep_time):\n",
    "    images = get_pictures(sleep_time)\n",
    "   # display_images(images) # test\n",
    "    id = recognise_hand(images)\n",
    "    save_images(images, id)\n",
    "    return id\n",
    "    \n",
    "\n",
    "\n",
    "def save_images(images, predictedID):\n",
    "    f = open(\"PredictionImages_\"+currentId, \"wb\")\n",
    "    f.write(pickle.dump([images, predictedID]))\n",
    "    f.close()    \n",
    "    currentId+=1\n",
    "    if currentId>MAX_IMAGES_SAVED:\n",
    "        currentId = 0\n",
    "\n",
    "def load_images():\n",
    "    data = []\n",
    "    for i in range(MAX_IMAGES_SAVED):\n",
    "        try:\n",
    "            f = open(\"PredictionImages_\"+currentId, \"rb\")\n",
    "            data += pickle.load(f.read())\n",
    "        except:\n",
    "            return data\n",
    "    return data"
   ]
  },
  {
   "cell_type": "code",
   "execution_count": 9,
   "id": "88e82c76-b58b-48ee-a3ce-1d1b75dbb08d",
   "metadata": {},
   "outputs": [
    {
     "name": "stdout",
     "output_type": "stream",
     "text": [
      "Max fps is: 27.637528305162792\n",
      "1/1 [==============================] - 0s 86ms/step\n"
     ]
    }
   ],
   "source": [
    "\n",
    "fps = get_fps()\n",
    "print(\"Max fps is: \" +str(fps))\n",
    "target_fps = float(input(\"Input target fps:\"))\n",
    "app = QApplication(sys.argv)\n",
    "window = ImageWindow()\n",
    "window.show()\n",
    "while True:\n",
    "    \n",
    "    id = input_to_model(calc_sleep(fps, target_fps, window))\n",
    "    execute_command(id_to_command(id))\n"
   ]
  }
 ],
 "metadata": {
  "kernelspec": {
   "display_name": "Python 3 (ipykernel)",
   "language": "python",
   "name": "python3"
  },
  "language_info": {
   "codemirror_mode": {
    "name": "ipython",
    "version": 3
   },
   "file_extension": ".py",
   "mimetype": "text/x-python",
   "name": "python",
   "nbconvert_exporter": "python",
   "pygments_lexer": "ipython3",
   "version": "3.11.8"
  }
 },
 "nbformat": 4,
 "nbformat_minor": 5
}
